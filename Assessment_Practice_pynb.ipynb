{
  "nbformat": 4,
  "nbformat_minor": 0,
  "metadata": {
    "colab": {
      "provenance": [],
      "authorship_tag": "ABX9TyN6w2mDOt4uWpQbrUh2njiF",
      "include_colab_link": true
    },
    "kernelspec": {
      "name": "python3",
      "display_name": "Python 3"
    },
    "language_info": {
      "name": "python"
    }
  },
  "cells": [
    {
      "cell_type": "markdown",
      "metadata": {
        "id": "view-in-github",
        "colab_type": "text"
      },
      "source": [
        "<a href=\"https://colab.research.google.com/github/Torres9-afk/Python_Practice-DBS/blob/main/Assessment_Practice_pynb.ipynb\" target=\"_parent\"><img src=\"https://colab.research.google.com/assets/colab-badge.svg\" alt=\"Open In Colab\"/></a>"
      ]
    },
    {
      "cell_type": "code",
      "execution_count": null,
      "metadata": {
        "id": "5bzlqcZLfQu0",
        "colab": {
          "base_uri": "https://localhost:8080/"
        },
        "outputId": "1d807275-5deb-4f99-c5d7-1e3f9c0e97b2"
      },
      "outputs": [
        {
          "output_type": "stream",
          "name": "stdout",
          "text": [
            "hello world\n"
          ]
        }
      ],
      "source": [
        "print(\"hello world\")"
      ]
    },
    {
      "cell_type": "code",
      "source": [
        "if 5 > 2:\n",
        " print(\"Five is greater  than two\")"
      ],
      "metadata": {
        "colab": {
          "base_uri": "https://localhost:8080/"
        },
        "id": "ZpvEYUtAoXMW",
        "outputId": "1d501020-8908-4c44-86af-2c718dda67d7"
      },
      "execution_count": null,
      "outputs": [
        {
          "output_type": "stream",
          "name": "stdout",
          "text": [
            "Five is greater  than two\n"
          ]
        }
      ]
    },
    {
      "cell_type": "code",
      "source": [
        "if 5 > 2:\n",
        "     print(\"Five is greater  than two\")\n",
        "     print(\"Five is greater  than two\")"
      ],
      "metadata": {
        "colab": {
          "base_uri": "https://localhost:8080/"
        },
        "id": "RmjatP1HraSN",
        "outputId": "0611b39a-2c98-46ea-d44a-a4572a9771e8"
      },
      "execution_count": null,
      "outputs": [
        {
          "output_type": "stream",
          "name": "stdout",
          "text": [
            "Five is greater  than two\n",
            "Five is greater  than two\n"
          ]
        }
      ]
    },
    {
      "cell_type": "code",
      "source": [
        "#this is test \n",
        "print(\"This is test\")"
      ],
      "metadata": {
        "colab": {
          "base_uri": "https://localhost:8080/"
        },
        "id": "8T7LJ2vltJTU",
        "outputId": "35bdcc87-d92c-49d3-e7d9-5f295c2c4cb4"
      },
      "execution_count": null,
      "outputs": [
        {
          "output_type": "stream",
          "name": "stdout",
          "text": [
            "This is test\n"
          ]
        }
      ]
    },
    {
      "cell_type": "code",
      "source": [
        "x=5\n",
        "y=10\n",
        "\n",
        "print(x,y)"
      ],
      "metadata": {
        "colab": {
          "base_uri": "https://localhost:8080/"
        },
        "id": "-hj4nqyptdba",
        "outputId": "aa13b70a-8c9e-43bd-aea2-500c91e2687c"
      },
      "execution_count": null,
      "outputs": [
        {
          "output_type": "stream",
          "name": "stdout",
          "text": [
            "5 10\n"
          ]
        }
      ]
    },
    {
      "cell_type": "code",
      "source": [
        "if x > y:\n",
        "   print(\"The value of x is greater than y \") \n",
        "else:\n",
        "   print(\"The valuer of y is gretaer than x\")"
      ],
      "metadata": {
        "colab": {
          "base_uri": "https://localhost:8080/"
        },
        "id": "_06t4ebfuAHi",
        "outputId": "1c06ca47-04e8-4302-959e-0cd8e27c8692"
      },
      "execution_count": null,
      "outputs": [
        {
          "output_type": "stream",
          "name": "stdout",
          "text": [
            "The valuer of y is gretaer than x\n"
          ]
        }
      ]
    },
    {
      "cell_type": "code",
      "source": [
        "#This is test comment\n",
        "print(\"The value of x is greater than y \")     "
      ],
      "metadata": {
        "colab": {
          "base_uri": "https://localhost:8080/"
        },
        "id": "JnxzxF3nwqS6",
        "outputId": "f6ec0071-4447-41eb-d1c5-854562def3ef"
      },
      "execution_count": null,
      "outputs": [
        {
          "output_type": "stream",
          "name": "stdout",
          "text": [
            "The value of x is greater than y \n"
          ]
        }
      ]
    },
    {
      "cell_type": "code",
      "source": [
        "\"\"\"\n",
        "This is test command\n",
        "Please ignore \n",
        "for compilation\n",
        "\"\"\"\n",
        "#print(\"This is comment\")\n",
        "print(\"This is comment\")"
      ],
      "metadata": {
        "colab": {
          "base_uri": "https://localhost:8080/"
        },
        "id": "B30f5hfsxkhz",
        "outputId": "0691d7aa-bd27-4a51-bd12-2894cce3fcc2"
      },
      "execution_count": null,
      "outputs": [
        {
          "output_type": "stream",
          "name": "stdout",
          "text": [
            "This is comment\n"
          ]
        }
      ]
    },
    {
      "cell_type": "code",
      "source": [
        "x = 16\n",
        "y = 10\n",
        "print(x)\n",
        "print(y)"
      ],
      "metadata": {
        "colab": {
          "base_uri": "https://localhost:8080/"
        },
        "id": "Bbo8NKKH-z4A",
        "outputId": "50269f75-5c00-400e-d3b2-04f5e1d109a5"
      },
      "execution_count": null,
      "outputs": [
        {
          "output_type": "stream",
          "name": "stdout",
          "text": [
            "16\n",
            "10\n"
          ]
        }
      ]
    },
    {
      "cell_type": "code",
      "source": [
        "x = 8\n",
        "x = \"This is Ronaldo\"\n",
        "print(type(x))"
      ],
      "metadata": {
        "colab": {
          "base_uri": "https://localhost:8080/"
        },
        "id": "TIMJ_Ilx_-3W",
        "outputId": "7fff281b-3a2b-4330-f233-ecda9dab4b97"
      },
      "execution_count": null,
      "outputs": [
        {
          "output_type": "stream",
          "name": "stdout",
          "text": [
            "<class 'str'>\n"
          ]
        }
      ]
    },
    {
      "cell_type": "code",
      "source": [
        "x = 90\n",
        "y = \"This is Anfield\"\n",
        "z = 19.768\n",
        "print(type(x),type(y),type(z))"
      ],
      "metadata": {
        "colab": {
          "base_uri": "https://localhost:8080/"
        },
        "id": "-ASVyYqpAb60",
        "outputId": "c3865c83-36b1-402a-8f22-80cea1b5c442"
      },
      "execution_count": null,
      "outputs": [
        {
          "output_type": "stream",
          "name": "stdout",
          "text": [
            "<class 'int'> <class 'str'> <class 'float'>\n"
          ]
        }
      ]
    },
    {
      "cell_type": "code",
      "source": [
        "a = 190\n",
        "A = \"jsabhiajsxn\"\n",
        "print(a)"
      ],
      "metadata": {
        "colab": {
          "base_uri": "https://localhost:8080/"
        },
        "id": "HOQRe6eaSPDJ",
        "outputId": "40cc1a43-79ba-477a-dcc2-cd6b79210903"
      },
      "execution_count": 34,
      "outputs": [
        {
          "output_type": "stream",
          "name": "stdout",
          "text": [
            "190\n"
          ]
        }
      ]
    },
    {
      "cell_type": "code",
      "source": [
        "adadsasd = 100\n",
        "my_san = 928\n",
        "print(adadsasd,my_san)"
      ],
      "metadata": {
        "colab": {
          "base_uri": "https://localhost:8080/"
        },
        "id": "6AsFjl3xS9xG",
        "outputId": "b47c9808-ca76-4982-c4b7-6eb5871abf02"
      },
      "execution_count": 36,
      "outputs": [
        {
          "output_type": "stream",
          "name": "stdout",
          "text": [
            "100 928\n"
          ]
        }
      ]
    },
    {
      "cell_type": "code",
      "source": [
        "fruits = ['apple', 'banana', 'grapes']\n",
        "x,y,z = fruits\n",
        "print(x,y,z)\n",
        "\n"
      ],
      "metadata": {
        "colab": {
          "base_uri": "https://localhost:8080/"
        },
        "id": "yxuo9Xwib-de",
        "outputId": "065d547b-b316-4197-f6b4-c911748403c7"
      },
      "execution_count": 37,
      "outputs": [
        {
          "output_type": "stream",
          "name": "stdout",
          "text": [
            "apple banana grapes\n"
          ]
        }
      ]
    },
    {
      "cell_type": "code",
      "source": [
        "x=90\n",
        "y=100\n",
        "z=89\n",
        "print(x+z-y) "
      ],
      "metadata": {
        "colab": {
          "base_uri": "https://localhost:8080/"
        },
        "id": "iPi0VlUTdix5",
        "outputId": "c1c5b876-5279-45fc-ae7e-3a4c059a0d21"
      },
      "execution_count": 48,
      "outputs": [
        {
          "output_type": "stream",
          "name": "stdout",
          "text": [
            "79\n"
          ]
        }
      ]
    },
    {
      "cell_type": "code",
      "source": [
        "x = 5\n",
        "y = 'Club '\n",
        "z = 'Anfield'\n",
        "print(x,y,z)"
      ],
      "metadata": {
        "colab": {
          "base_uri": "https://localhost:8080/"
        },
        "id": "5D6YAMMZeC6h",
        "outputId": "4a1d18b2-fde7-449b-ce0d-4681a9a9f74d"
      },
      "execution_count": 52,
      "outputs": [
        {
          "output_type": "stream",
          "name": "stdout",
          "text": [
            "5 Club  Anfield\n"
          ]
        }
      ]
    },
    {
      "cell_type": "code",
      "source": [
        "\n",
        "def myfun():\n",
        " x='fantastic'\n",
        "\n",
        "\n",
        "print('python is ' +x)"
      ],
      "metadata": {
        "colab": {
          "base_uri": "https://localhost:8080/"
        },
        "id": "k21AG7U1nrVI",
        "outputId": "cb4dade3-b315-45b1-f0c6-249a43a6748a"
      },
      "execution_count": 72,
      "outputs": [
        {
          "output_type": "stream",
          "name": "stdout",
          "text": [
            "python is awsdome\n"
          ]
        }
      ]
    },
    {
      "cell_type": "code",
      "source": [
        "def mysan():\n",
        "  global x\n",
        "  x = 'fantastic'\n",
        "\n",
        "mysan()\n",
        "print('Pythons is ' +x)"
      ],
      "metadata": {
        "colab": {
          "base_uri": "https://localhost:8080/"
        },
        "id": "coeGSkUIoMqd",
        "outputId": "4a9b8bc3-e570-41b3-f76e-a65bff467229"
      },
      "execution_count": 69,
      "outputs": [
        {
          "output_type": "stream",
          "name": "stdout",
          "text": [
            "Pythons is fantastic\n"
          ]
        }
      ]
    },
    {
      "cell_type": "code",
      "source": [
        "x='awsome'\n",
        "def myfun():\n",
        "  global x\n",
        "  x='Super'\n",
        "\n",
        "myfun()\n",
        "print('Life is ' +x)  "
      ],
      "metadata": {
        "colab": {
          "base_uri": "https://localhost:8080/"
        },
        "id": "PYnxljwHoYWn",
        "outputId": "cbe7cf31-c655-44b0-c3b2-ad3290180e61"
      },
      "execution_count": 76,
      "outputs": [
        {
          "output_type": "stream",
          "name": "stdout",
          "text": [
            "Life is Super\n"
          ]
        }
      ]
    },
    {
      "cell_type": "code",
      "source": [
        "\n",
        "\n",
        "z=('apple', 'banana', 'mango')\n",
        "y=['apple', 'banana', 'mango']\n",
        "\n",
        "print(type(z),type(y))"
      ],
      "metadata": {
        "colab": {
          "base_uri": "https://localhost:8080/"
        },
        "id": "VydBRjpSr5xT",
        "outputId": "fb89eafe-1528-4461-db41-180621d312ff"
      },
      "execution_count": 81,
      "outputs": [
        {
          "output_type": "stream",
          "name": "stdout",
          "text": [
            "<class 'tuple'> <class 'list'>\n"
          ]
        }
      ]
    },
    {
      "cell_type": "code",
      "source": [
        "x=str('Hello')\n",
        "y=int(20)\n",
        "z=float(90.1)\n",
        "print(x,y,z)"
      ],
      "metadata": {
        "colab": {
          "base_uri": "https://localhost:8080/"
        },
        "id": "1v3uXgWVsqzX",
        "outputId": "2d3587bd-d7c9-4e2f-b67c-bbb6c06c80e1"
      },
      "execution_count": 89,
      "outputs": [
        {
          "output_type": "stream",
          "name": "stdout",
          "text": [
            "Hello 20 90.1\n"
          ]
        }
      ]
    },
    {
      "cell_type": "code",
      "source": [
        "x=9+5j\n",
        "print(x)"
      ],
      "metadata": {
        "colab": {
          "base_uri": "https://localhost:8080/"
        },
        "id": "Lp0LCL6bt1-T",
        "outputId": "b183afbc-969e-4ad0-b7cc-006b9ce55c2f"
      },
      "execution_count": 93,
      "outputs": [
        {
          "output_type": "stream",
          "name": "stdout",
          "text": [
            "(9+5j)\n"
          ]
        }
      ]
    },
    {
      "cell_type": "code",
      "source": [
        "##Covert samples\n",
        "#Int to Float\n",
        "x=10\n",
        "a=float(x)\n",
        "print(a)\n",
        "\n",
        "#float to int\n",
        "y=87.23\n",
        "b=int(y)\n",
        "print(b)\n",
        "\n",
        "#Int to complex\n",
        "c=complex(x)\n",
        "print(c)"
      ],
      "metadata": {
        "colab": {
          "base_uri": "https://localhost:8080/"
        },
        "id": "oUlD9DlYvKWy",
        "outputId": "9a888a6d-c10e-4caf-9062-4fb1282b2ba3"
      },
      "execution_count": 99,
      "outputs": [
        {
          "output_type": "stream",
          "name": "stdout",
          "text": [
            "10.0\n",
            "87\n",
            "(10+0j)\n"
          ]
        }
      ]
    }
  ]
}